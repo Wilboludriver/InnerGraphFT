{
 "cells": [
  {
   "cell_type": "code",
   "execution_count": 1,
   "id": "d8ac87a9-75b5-424c-85a4-369a9760f071",
   "metadata": {},
   "outputs": [],
   "source": [
    "import os\n",
    "import json\n",
    "from tqdm import tqdm"
   ]
  },
  {
   "cell_type": "code",
   "execution_count": 2,
   "id": "42c92c7d-af80-457f-bc16-8946ea62bbb8",
   "metadata": {},
   "outputs": [],
   "source": [
    "data_dir = \"./bbh/\"\n",
    "cot_dir = \"./cot-prompts/\""
   ]
  },
  {
   "cell_type": "code",
   "execution_count": 16,
   "id": "5e4f33c0-15cc-42f8-b71f-c315e8f0fead",
   "metadata": {},
   "outputs": [
    {
     "name": "stderr",
     "output_type": "stream",
     "text": [
      "100%|██████████| 29/29 [00:00<00:00, 331.12it/s]\n"
     ]
    }
   ],
   "source": [
    "file_list = os.listdir(data_dir)\n",
    "all_data = list()\n",
    "for file_name in tqdm(file_list):\n",
    "    if file_name in [\"README.md\", \".ipynb_checkpoints\"]:\n",
    "        continue\n",
    "    task_name = file_name.replace(\".json\", \"\")\n",
    "    with open(os.path.join(data_dir, file_name), \"r\", encoding=\"utf-8\") as fr:\n",
    "        task_data = json.load(fr)\n",
    "    task_data = task_data[\"examples\"]\n",
    "\n",
    "    with open(os.path.join(cot_dir, \"{}.txt\".format(task_name)), \"r\", encoding=\"utf-8\") as fr:\n",
    "        cot_prompt = fr.readlines()\n",
    "    cot_prompt = \"\".join(cot_prompt[2:])\n",
    "     \n",
    "    for ei, example in enumerate(task_data):\n",
    "        all_data.append({\n",
    "            \"task_name\": task_name,\n",
    "            \"idx\": ei + 1,\n",
    "            \"instruction\": \"{}\\n\\nQ: {}\\nA:\".format(cot_prompt, example[\"input\"]),\n",
    "            \"answer\": [example[\"target\"]],\n",
    "        })"
   ]
  },
  {
   "cell_type": "code",
   "execution_count": 13,
   "id": "238f4c52-ec77-4708-9629-f08310c2016f",
   "metadata": {},
   "outputs": [
    {
     "name": "stdout",
     "output_type": "stream",
     "text": [
      "A logical deduction task which requires deducing the order of a sequence of objects.\n",
      "\n",
      "Q: The following paragraphs each describe a set of three objects arranged in a fixed order. The statements are logically consistent within each paragraph. In a golf tournament, there were three golfers: Amy, Eli, and Eve. Eve finished above Amy. Eli finished below Amy.\n",
      "Options:\n",
      "(A) Amy finished last\n",
      "(B) Eli finished last\n",
      "(C) Eve finished last\n",
      "A: Let's think step by step.\n",
      "(1) Eve finished above Amy: \"(above) ? Eve ? Amy ? (below)\".\n",
      "(2) Eli finished below Amy: \"(above) ? Amy ? Eli ? (below)\".\n",
      "(3) Combining (1) and (2) we get the following ordering: \"(above) Eve Amy Eli (below)\".\n",
      "According to this ordering, the person who finished last (the one at the bottom of this list) is Eli.\n",
      "Eli finished last. So the answer is (B).\n",
      "\n",
      "Q: The following paragraphs each describe a set of three objects arranged in a fixed order. The statements are logically consistent within each paragraph. On a shelf, there are three books: a white book, a green book, and an orange book. The green book is to the right of the white book. The orange book is the rightmost.\n",
      "Options:\n",
      "(A) The white book is the leftmost\n",
      "(B) The green book is the leftmost\n",
      "(C) The orange book is the leftmost\n",
      "A: Let's think step by step.\n",
      "(1) The green book is to the right of the white book: \"(left) ? white ? green ? (right)\".\n",
      "(2) The orange book is the rightmost: \"(left) ? white ? green orange (right)\".\n",
      "(3) Combining (1) and (2) we get the following ordering: \"(left) white green orange (right)\".\n",
      "According to this ordering, the leftmost book is the white book.\n",
      "The white book is the leftmost. So the answer is (A).\n",
      "\n",
      "Q: The following paragraphs each describe a set of three objects arranged in a fixed order. The statements are logically consistent within each paragraph. On a shelf, there are three books: a red book, a gray book, and a white book. The white book is to the left of the gray book. The red book is the second from the left.\n",
      "Options:\n",
      "(A) The red book is the leftmost\n",
      "(B) The gray book is the leftmost\n",
      "(C) The white book is the leftmost\n",
      "A: Let's think step by step.\n",
      "(1) The white book is to the left of the gray book: \"(left) ? white ? gray ? (right)\".\n",
      "(2) The red book is the second from the left: \"(left) ? white red gray ? (right)\".\n",
      "(3) Combining (1) and (2) we get the following ordering: \"(left) white red gray (right)\".\n",
      "According to this ordering, the leftmost book is the white book.\n",
      "The white book is the leftmost. So the answer is (C).\n",
      "\n",
      "Q: The following paragraphs each describe a set of five objects arranged in a fixed order. The statements are logically consistent within each paragraph. On a branch, there are five birds: a quail, an owl, a raven, a falcon, and a robin. The owl is the leftmost. The robin is to the left of the raven. The quail is the rightmost. The raven is the third from the left.\n",
      "Options:\n",
      "(A) The quail is the rightmost\n",
      "(B) The owl is the rightmost\n",
      "(C) The raven is the rightmost\n",
      "(D) The falcon is the rightmost\n",
      "(E) The robin is the rightmost\n",
      "A:\n",
      "['(A)']\n"
     ]
    }
   ],
   "source": [
    "print(all_data[1000][\"instruction\"])\n",
    "print(all_data[1000][\"answer\"])"
   ]
  },
  {
   "cell_type": "code",
   "execution_count": 17,
   "id": "e4a8ae56-06a2-461c-8bd4-721c3534e35d",
   "metadata": {},
   "outputs": [
    {
     "name": "stderr",
     "output_type": "stream",
     "text": [
      "100%|██████████| 6511/6511 [00:00<00:00, 71083.42it/s]\n"
     ]
    }
   ],
   "source": [
    "# save data\n",
    "with open(\"bbh_dataset.json\", \"w\", encoding=\"utf-8\") as fw:\n",
    "    for example in tqdm(all_data):\n",
    "        fw.write(json.dumps(example) + \"\\n\")"
   ]
  }
 ],
 "metadata": {
  "kernelspec": {
   "display_name": "Python 3 (ipykernel)",
   "language": "python",
   "name": "python3"
  },
  "language_info": {
   "codemirror_mode": {
    "name": "ipython",
    "version": 3
   },
   "file_extension": ".py",
   "mimetype": "text/x-python",
   "name": "python",
   "nbconvert_exporter": "python",
   "pygments_lexer": "ipython3",
   "version": "3.11.5"
  }
 },
 "nbformat": 4,
 "nbformat_minor": 5
}
